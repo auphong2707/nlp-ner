{
 "cells": [
  {
   "cell_type": "markdown",
   "id": "8a9d9767",
   "metadata": {},
   "source": [
    "# Preparation"
   ]
  },
  {
   "cell_type": "code",
   "execution_count": 1,
   "id": "07a161f7",
   "metadata": {},
   "outputs": [],
   "source": [
    "# Preparation: Import libraries\n",
    "%matplotlib inline\n",
    "\n",
    "import json\n",
    "import random\n",
    "import matplotlib.pyplot as plt\n",
    "from collections import Counter"
   ]
  },
  {
   "cell_type": "code",
   "execution_count": 2,
   "id": "9a91237d",
   "metadata": {},
   "outputs": [
    {
     "name": "stdout",
     "output_type": "stream",
     "text": [
      "Datasets loaded successfully.\n"
     ]
    }
   ],
   "source": [
    "# Preparation: Load the dataset\n",
    "\n",
    "def load_jsonl(file_path):\n",
    "    \"\"\"Load a JSONL file and return a list of dictionaries.\"\"\"\n",
    "    with open(file_path, 'r', encoding='utf-8') as f:\n",
    "        return [json.loads(line) for line in f]\n",
    "\n",
    "# Load train, validation, and test sets\n",
    "train_data = load_jsonl(\"data/train_en.jsonl\")\n",
    "val_data = load_jsonl(\"data/val_en.jsonl\")\n",
    "test_data = load_jsonl(\"data/test_en.jsonl\")\n",
    "\n",
    "print(\"Datasets loaded successfully.\")"
   ]
  },
  {
   "cell_type": "markdown",
   "id": "9751fa16",
   "metadata": {},
   "source": [
    "Preview the dataset"
   ]
  },
  {
   "cell_type": "code",
   "execution_count": 3,
   "id": "91384fe9",
   "metadata": {},
   "outputs": [
    {
     "name": "stdout",
     "output_type": "stream",
     "text": [
      "Train Data: 131280 sentences\n",
      "Validation Data: 16410 sentences\n",
      "Test Data: 16454 sentences\n",
      "\n",
      "Example from Train Data:\n",
      "{'tokens': ['The', 'type', 'locality', 'is', 'Kīlauea', '.'], 'ner_tags': [0, 0, 0, 0, 5, 0], 'lang': 'en'}\n"
     ]
    }
   ],
   "source": [
    "# Preview the loaded datasets\n",
    "print(f\"Train Data: {len(train_data)} sentences\")\n",
    "print(f\"Validation Data: {len(val_data)} sentences\")\n",
    "print(f\"Test Data: {len(test_data)} sentences\")\n",
    "\n",
    "# Preview a sample\n",
    "print(\"\\nExample from Train Data:\")\n",
    "print(train_data[0])"
   ]
  },
  {
   "cell_type": "markdown",
   "id": "11865ad8",
   "metadata": {},
   "source": [
    "# Data Analasys"
   ]
  }
 ],
 "metadata": {
  "kernelspec": {
   "display_name": "Python 3",
   "language": "python",
   "name": "python3"
  },
  "language_info": {
   "codemirror_mode": {
    "name": "ipython",
    "version": 3
   },
   "file_extension": ".py",
   "mimetype": "text/x-python",
   "name": "python",
   "nbconvert_exporter": "python",
   "pygments_lexer": "ipython3",
   "version": "3.11.3"
  }
 },
 "nbformat": 4,
 "nbformat_minor": 5
}
